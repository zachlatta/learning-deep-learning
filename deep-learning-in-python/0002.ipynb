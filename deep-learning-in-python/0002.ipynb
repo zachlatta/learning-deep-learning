{
 "cells": [
  {
   "cell_type": "code",
   "execution_count": 2,
   "id": "2cd5add7-5439-4d47-b583-c9368f9dc803",
   "metadata": {},
   "outputs": [
    {
     "data": {
      "text/plain": [
       "array(12)"
      ]
     },
     "execution_count": 2,
     "metadata": {},
     "output_type": "execute_result"
    }
   ],
   "source": [
    "import numpy as np\n",
    "x = np.array(12)\n",
    "x"
   ]
  },
  {
   "cell_type": "code",
   "execution_count": 5,
   "id": "e6934d17-f12b-484d-85e4-90f6355211b6",
   "metadata": {},
   "outputs": [
    {
     "data": {
      "text/plain": [
       "0"
      ]
     },
     "execution_count": 5,
     "metadata": {},
     "output_type": "execute_result"
    }
   ],
   "source": [
    "x.ndim"
   ]
  },
  {
   "cell_type": "code",
   "execution_count": 6,
   "id": "304b4258-5801-4646-af17-1206ad650e3b",
   "metadata": {},
   "outputs": [
    {
     "data": {
      "text/plain": [
       "array([12,  3,  6, 14,  7])"
      ]
     },
     "execution_count": 6,
     "metadata": {},
     "output_type": "execute_result"
    }
   ],
   "source": [
    "x = np.array([12, 3, 6, 14, 7])\n",
    "x"
   ]
  },
  {
   "cell_type": "code",
   "execution_count": 9,
   "id": "69c2c21c-760b-4b15-9534-20b01443ecd4",
   "metadata": {},
   "outputs": [
    {
     "data": {
      "text/plain": [
       "1"
      ]
     },
     "execution_count": 9,
     "metadata": {},
     "output_type": "execute_result"
    }
   ],
   "source": [
    "x.ndim"
   ]
  },
  {
   "cell_type": "code",
   "execution_count": 10,
   "id": "82d04cb8-c20e-45e6-b023-0d3fc17d03d2",
   "metadata": {},
   "outputs": [
    {
     "name": "stdout",
     "output_type": "stream",
     "text": [
      "Collecting matplot\n",
      "  Downloading matplot-0.1.9-py2.py3-none-any.whl (5.0 kB)\n",
      "Collecting matplotlib>=3.1.1\n",
      "  Downloading matplotlib-3.6.2-cp310-cp310-manylinux_2_17_aarch64.manylinux2014_aarch64.whl (11.6 MB)\n",
      "\u001b[2K     \u001b[90m━━━━━━━━━━━━━━━━━━━━━━━━━━━━━━━━━━━━━━━━\u001b[0m \u001b[32m11.6/11.6 MB\u001b[0m \u001b[31m2.9 MB/s\u001b[0m eta \u001b[36m0:00:00\u001b[0m00:01\u001b[0m00:01\u001b[0m\n",
      "\u001b[?25hCollecting pyloco>=0.0.134\n",
      "  Downloading pyloco-0.0.139-py2.py3-none-any.whl (60 kB)\n",
      "\u001b[2K     \u001b[90m━━━━━━━━━━━━━━━━━━━━━━━━━━━━━━━━━━━━━━━━\u001b[0m \u001b[32m60.2/60.2 kB\u001b[0m \u001b[31m1.2 MB/s\u001b[0m eta \u001b[36m0:00:00\u001b[0ma \u001b[36m0:00:01\u001b[0m\n",
      "\u001b[?25hRequirement already satisfied: python-dateutil>=2.7 in /opt/conda/lib/python3.10/site-packages (from matplotlib>=3.1.1->matplot) (2.8.2)\n",
      "Collecting fonttools>=4.22.0\n",
      "  Downloading fonttools-4.38.0-py3-none-any.whl (965 kB)\n",
      "\u001b[2K     \u001b[90m━━━━━━━━━━━━━━━━━━━━━━━━━━━━━━━━━━━━━━━\u001b[0m \u001b[32m965.4/965.4 kB\u001b[0m \u001b[31m3.1 MB/s\u001b[0m eta \u001b[36m0:00:00\u001b[0m00:01\u001b[0m00:01\u001b[0m\n",
      "\u001b[?25hCollecting pillow>=6.2.0\n",
      "  Downloading Pillow-9.3.0-cp310-cp310-manylinux_2_28_aarch64.whl (3.1 MB)\n",
      "\u001b[2K     \u001b[90m━━━━━━━━━━━━━━━━━━━━━━━━━━━━━━━━━━━━━━━━\u001b[0m \u001b[32m3.1/3.1 MB\u001b[0m \u001b[31m2.0 MB/s\u001b[0m eta \u001b[36m0:00:00\u001b[0m00:01\u001b[0m00:01\u001b[0m\n",
      "\u001b[?25hCollecting cycler>=0.10\n",
      "  Downloading cycler-0.11.0-py3-none-any.whl (6.4 kB)\n",
      "Requirement already satisfied: pyparsing>=2.2.1 in /opt/conda/lib/python3.10/site-packages (from matplotlib>=3.1.1->matplot) (3.0.9)\n",
      "Collecting kiwisolver>=1.0.1\n",
      "  Downloading kiwisolver-1.4.4-cp310-cp310-manylinux_2_17_aarch64.manylinux2014_aarch64.whl (1.4 MB)\n",
      "\u001b[2K     \u001b[90m━━━━━━━━━━━━━━━━━━━━━━━━━━━━━━━━━━━━━━━━\u001b[0m \u001b[32m1.4/1.4 MB\u001b[0m \u001b[31m2.8 MB/s\u001b[0m eta \u001b[36m0:00:00\u001b[0m00:01\u001b[0m00:01\u001b[0m\n",
      "\u001b[?25hRequirement already satisfied: packaging>=20.0 in /opt/conda/lib/python3.10/site-packages (from matplotlib>=3.1.1->matplot) (21.3)\n",
      "Collecting contourpy>=1.0.1\n",
      "  Downloading contourpy-1.0.6-cp310-cp310-manylinux_2_17_aarch64.manylinux2014_aarch64.whl (278 kB)\n",
      "\u001b[2K     \u001b[90m━━━━━━━━━━━━━━━━━━━━━━━━━━━━━━━━━━━━━━━\u001b[0m \u001b[32m278.9/278.9 kB\u001b[0m \u001b[31m2.2 MB/s\u001b[0m eta \u001b[36m0:00:00\u001b[0m00:01\u001b[0m00:01\u001b[0m\n",
      "\u001b[?25hRequirement already satisfied: numpy>=1.19 in /opt/conda/lib/python3.10/site-packages (from matplotlib>=3.1.1->matplot) (1.23.5)\n",
      "Collecting ushlex\n",
      "  Downloading ushlex-0.99.1.tar.gz (4.7 kB)\n",
      "  Preparing metadata (setup.py) ... \u001b[?25ldone\n",
      "\u001b[?25hRequirement already satisfied: websocket-client in /opt/conda/lib/python3.10/site-packages (from pyloco>=0.0.134->matplot) (1.4.2)\n",
      "Collecting twine\n",
      "  Downloading twine-4.0.1-py3-none-any.whl (36 kB)\n",
      "Collecting typing\n",
      "  Downloading typing-3.7.4.3.tar.gz (78 kB)\n",
      "\u001b[2K     \u001b[90m━━━━━━━━━━━━━━━━━━━━━━━━━━━━━━━━━━━━━━━━\u001b[0m \u001b[32m78.6/78.6 kB\u001b[0m \u001b[31m1.5 MB/s\u001b[0m eta \u001b[36m0:00:00\u001b[0ma \u001b[36m0:00:01\u001b[0m\n",
      "\u001b[?25h  Preparing metadata (setup.py) ... \u001b[?25ldone\n",
      "\u001b[?25hCollecting SimpleWebSocketServer\n",
      "  Downloading SimpleWebSocketServer-0.1.2.tar.gz (10 kB)\n",
      "  Preparing metadata (setup.py) ... \u001b[?25ldone\n",
      "\u001b[?25hRequirement already satisfied: six>=1.5 in /opt/conda/lib/python3.10/site-packages (from python-dateutil>=2.7->matplotlib>=3.1.1->matplot) (1.16.0)\n",
      "Collecting pkginfo>=1.8.1\n",
      "  Downloading pkginfo-1.8.3-py2.py3-none-any.whl (26 kB)\n",
      "Collecting requests-toolbelt!=0.9.0,>=0.8.0\n",
      "  Downloading requests_toolbelt-0.10.1-py2.py3-none-any.whl (54 kB)\n",
      "\u001b[2K     \u001b[90m━━━━━━━━━━━━━━━━━━━━━━━━━━━━━━━━━━━━━━━━\u001b[0m \u001b[32m54.5/54.5 kB\u001b[0m \u001b[31m1.1 MB/s\u001b[0m eta \u001b[36m0:00:00\u001b[0ma \u001b[36m0:00:01\u001b[0m\n",
      "\u001b[?25hRequirement already satisfied: urllib3>=1.26.0 in /opt/conda/lib/python3.10/site-packages (from twine->pyloco>=0.0.134->matplot) (1.26.11)\n",
      "Collecting keyring>=15.1\n",
      "  Downloading keyring-23.11.0-py3-none-any.whl (36 kB)\n",
      "Requirement already satisfied: importlib-metadata>=3.6 in /opt/conda/lib/python3.10/site-packages (from twine->pyloco>=0.0.134->matplot) (5.0.0)\n",
      "Requirement already satisfied: requests>=2.20 in /opt/conda/lib/python3.10/site-packages (from twine->pyloco>=0.0.134->matplot) (2.28.1)\n",
      "Collecting rfc3986>=1.4.0\n",
      "  Downloading rfc3986-2.0.0-py2.py3-none-any.whl (31 kB)\n",
      "Collecting rich>=12.0.0\n",
      "  Downloading rich-12.6.0-py3-none-any.whl (237 kB)\n",
      "\u001b[2K     \u001b[90m━━━━━━━━━━━━━━━━━━━━━━━━━━━━━━━━━━━━━━━\u001b[0m \u001b[32m237.5/237.5 kB\u001b[0m \u001b[31m2.4 MB/s\u001b[0m eta \u001b[36m0:00:00\u001b[0m00:01\u001b[0m00:01\u001b[0m\n",
      "\u001b[?25hCollecting readme-renderer>=35.0\n",
      "  Downloading readme_renderer-37.3-py3-none-any.whl (14 kB)\n",
      "Requirement already satisfied: zipp>=0.5 in /opt/conda/lib/python3.10/site-packages (from importlib-metadata>=3.6->twine->pyloco>=0.0.134->matplot) (3.10.0)\n",
      "Collecting jaraco.classes\n",
      "  Downloading jaraco.classes-3.2.3-py3-none-any.whl (6.0 kB)\n",
      "Collecting SecretStorage>=3.2\n",
      "  Downloading SecretStorage-3.3.3-py3-none-any.whl (15 kB)\n",
      "Collecting jeepney>=0.4.2\n",
      "  Downloading jeepney-0.8.0-py3-none-any.whl (48 kB)\n",
      "\u001b[2K     \u001b[90m━━━━━━━━━━━━━━━━━━━━━━━━━━━━━━━━━━━━━━━━\u001b[0m \u001b[32m48.4/48.4 kB\u001b[0m \u001b[31m1.0 MB/s\u001b[0m eta \u001b[36m0:00:00\u001b[0ma \u001b[36m0:00:01\u001b[0m\n",
      "\u001b[?25hRequirement already satisfied: Pygments>=2.5.1 in /opt/conda/lib/python3.10/site-packages (from readme-renderer>=35.0->twine->pyloco>=0.0.134->matplot) (2.13.0)\n",
      "Requirement already satisfied: bleach>=2.1.0 in /opt/conda/lib/python3.10/site-packages (from readme-renderer>=35.0->twine->pyloco>=0.0.134->matplot) (5.0.1)\n",
      "Collecting docutils>=0.13.1\n",
      "  Downloading docutils-0.19-py3-none-any.whl (570 kB)\n",
      "\u001b[2K     \u001b[90m━━━━━━━━━━━━━━━━━━━━━━━━━━━━━━━━━━━━━━━\u001b[0m \u001b[32m570.5/570.5 kB\u001b[0m \u001b[31m2.6 MB/s\u001b[0m eta \u001b[36m0:00:00\u001b[0m00:01\u001b[0m00:01\u001b[0m\n",
      "\u001b[?25hRequirement already satisfied: idna<4,>=2.5 in /opt/conda/lib/python3.10/site-packages (from requests>=2.20->twine->pyloco>=0.0.134->matplot) (3.4)\n",
      "Requirement already satisfied: charset-normalizer<3,>=2 in /opt/conda/lib/python3.10/site-packages (from requests>=2.20->twine->pyloco>=0.0.134->matplot) (2.1.1)\n",
      "Requirement already satisfied: certifi>=2017.4.17 in /opt/conda/lib/python3.10/site-packages (from requests>=2.20->twine->pyloco>=0.0.134->matplot) (2022.9.24)\n",
      "Collecting commonmark<0.10.0,>=0.9.0\n",
      "  Downloading commonmark-0.9.1-py2.py3-none-any.whl (51 kB)\n",
      "\u001b[2K     \u001b[90m━━━━━━━━━━━━━━━━━━━━━━━━━━━━━━━━━━━━━━━\u001b[0m \u001b[32m51.1/51.1 kB\u001b[0m \u001b[31m923.3 kB/s\u001b[0m eta \u001b[36m0:00:00\u001b[0m \u001b[36m0:00:01\u001b[0m\n",
      "\u001b[?25hRequirement already satisfied: webencodings in /opt/conda/lib/python3.10/site-packages (from bleach>=2.1.0->readme-renderer>=35.0->twine->pyloco>=0.0.134->matplot) (0.5.1)\n",
      "Requirement already satisfied: cryptography>=2.0 in /opt/conda/lib/python3.10/site-packages (from SecretStorage>=3.2->keyring>=15.1->twine->pyloco>=0.0.134->matplot) (38.0.3)\n",
      "Collecting more-itertools\n",
      "  Downloading more_itertools-9.0.0-py3-none-any.whl (52 kB)\n",
      "\u001b[2K     \u001b[90m━━━━━━━━━━━━━━━━━━━━━━━━━━━━━━━━━━━━━━━━\u001b[0m \u001b[32m52.8/52.8 kB\u001b[0m \u001b[31m1.1 MB/s\u001b[0m eta \u001b[36m0:00:00\u001b[0ma \u001b[36m0:00:01\u001b[0m\n",
      "\u001b[?25hRequirement already satisfied: cffi>=1.12 in /opt/conda/lib/python3.10/site-packages (from cryptography>=2.0->SecretStorage>=3.2->keyring>=15.1->twine->pyloco>=0.0.134->matplot) (1.15.1)\n",
      "Requirement already satisfied: pycparser in /opt/conda/lib/python3.10/site-packages (from cffi>=1.12->cryptography>=2.0->SecretStorage>=3.2->keyring>=15.1->twine->pyloco>=0.0.134->matplot) (2.21)\n",
      "Building wheels for collected packages: SimpleWebSocketServer, typing, ushlex\n",
      "  Building wheel for SimpleWebSocketServer (setup.py) ... \u001b[?25ldone\n",
      "\u001b[?25h  Created wheel for SimpleWebSocketServer: filename=SimpleWebSocketServer-0.1.2-py3-none-any.whl size=9664 sha256=7b51cec8033cb5002b1dd751c61a9be68e7d9d468df509ab60a6fde4bbfce619\n",
      "  Stored in directory: /home/jovyan/.cache/pip/wheels/6b/18/9a/f4fb933afe7ad7d2e65d0de732bd10c0091862640fbdd43c28\n",
      "  Building wheel for typing (setup.py) ... \u001b[?25ldone\n",
      "\u001b[?25h  Created wheel for typing: filename=typing-3.7.4.3-py3-none-any.whl size=26304 sha256=fa7edd44e57d376037548276da53d806c15b989a8eee2f4394d154c43c262fbc\n",
      "  Stored in directory: /home/jovyan/.cache/pip/wheels/e5/23/95/593222493ec6253200e94e4a5ee4361d12112000816d840434\n",
      "  Building wheel for ushlex (setup.py) ... \u001b[?25ldone\n",
      "\u001b[?25h  Created wheel for ushlex: filename=ushlex-0.99.1-py3-none-any.whl size=4394 sha256=1a4469c47be41b29819cf6bed1f6cc7168469dd8bf158a2d17bf362ea88ba90d\n",
      "  Stored in directory: /home/jovyan/.cache/pip/wheels/05/fa/78/ab0a5a599fc5ddb615d4ab5051fd1ed41fc09c2a34e8db5aa1\n",
      "Successfully built SimpleWebSocketServer typing ushlex\n",
      "Installing collected packages: ushlex, SimpleWebSocketServer, commonmark, typing, rich, rfc3986, pkginfo, pillow, more-itertools, kiwisolver, jeepney, fonttools, docutils, cycler, contourpy, requests-toolbelt, readme-renderer, matplotlib, jaraco.classes, SecretStorage, keyring, twine, pyloco, matplot\n",
      "Successfully installed SecretStorage-3.3.3 SimpleWebSocketServer-0.1.2 commonmark-0.9.1 contourpy-1.0.6 cycler-0.11.0 docutils-0.19 fonttools-4.38.0 jaraco.classes-3.2.3 jeepney-0.8.0 keyring-23.11.0 kiwisolver-1.4.4 matplot-0.1.9 matplotlib-3.6.2 more-itertools-9.0.0 pillow-9.3.0 pkginfo-1.8.3 pyloco-0.0.139 readme-renderer-37.3 requests-toolbelt-0.10.1 rfc3986-2.0.0 rich-12.6.0 twine-4.0.1 typing-3.7.4.3 ushlex-0.99.1\n"
     ]
    }
   ],
   "source": [
    "!pip install matplot"
   ]
  },
  {
   "cell_type": "code",
   "execution_count": 92,
   "id": "63556842-5d00-47d1-94f1-d47be85df31c",
   "metadata": {},
   "outputs": [
    {
     "data": {
      "image/png": "[encoded data removed]",
      "text/plain": [
       "<Figure size 640x480 with 1 Axes>"
      ]
     },
     "metadata": {},
     "output_type": "display_data"
    }
   ],
   "source": [
    "from tensorflow.keras.datasets import mnist\n",
    "import matplotlib.pyplot as plt\n",
    "\n",
    "(train_images, train_labels), (test_images, test_labels) = mnist.load_data()\n",
    "\n",
    "digit = train_images[4]\n",
    "plt.imshow(digit, cmap=plt.cm.binary)\n",
    "plt.show()"
   ]
  },
  {
   "cell_type": "code",
   "execution_count": 93,
   "id": "5b519653-97cc-4180-9016-c0326828e086",
   "metadata": {},
   "outputs": [
    {
     "data": {
      "text/plain": [
       "9"
      ]
     },
     "execution_count": 93,
     "metadata": {},
     "output_type": "execute_result"
    }
   ],
   "source": [
    "train_labels[4]"
   ]
  },
  {
   "cell_type": "code",
   "execution_count": 94,
   "id": "031c50f0-c67e-47d6-b202-0b552547ebcc",
   "metadata": {},
   "outputs": [
    {
     "data": {
      "text/plain": [
       "(90, 28, 28)"
      ]
     },
     "execution_count": 94,
     "metadata": {},
     "output_type": "execute_result"
    }
   ],
   "source": [
    "my_slice = train_images[10:100]\n",
    "my_slice.shape"
   ]
  },
  {
   "cell_type": "code",
   "execution_count": 95,
   "id": "677f73dc-e0f5-4d88-bb48-73d393712bc0",
   "metadata": {},
   "outputs": [
    {
     "data": {
      "text/plain": [
       "(90, 28, 28)"
      ]
     },
     "execution_count": 95,
     "metadata": {},
     "output_type": "execute_result"
    }
   ],
   "source": [
    "my_slice = train_images[10:100, :, :]\n",
    "my_slice.shape"
   ]
  },
  {
   "cell_type": "code",
   "execution_count": 96,
   "id": "e0500521-0af1-423c-ba1a-e4de89f9b523",
   "metadata": {},
   "outputs": [
    {
     "data": {
      "text/plain": [
       "(90, 28, 28)"
      ]
     },
     "execution_count": 96,
     "metadata": {},
     "output_type": "execute_result"
    }
   ],
   "source": [
    "my_slice = train_images[10:100, 0:28, 0:28]\n",
    "my_slice.shape"
   ]
  },
  {
   "cell_type": "code",
   "execution_count": 97,
   "id": "c35c8b88-f157-45c9-bfae-68d0aa617669",
   "metadata": {},
   "outputs": [
    {
     "data": {
      "image/png": "[encoded data removed]",
      "text/plain": [
       "<Figure size 640x480 with 1 Axes>"
      ]
     },
     "metadata": {},
     "output_type": "display_data"
    }
   ],
   "source": [
    "digit = my_slice[0]\n",
    "\n",
    "plt.imshow(digit, cmap=plt.cm.binary)\n",
    "plt.show()"
   ]
  },
  {
   "cell_type": "code",
   "execution_count": 98,
   "id": "f0410390-7c6f-402b-85f2-ac3f21aec7c9",
   "metadata": {},
   "outputs": [
    {
     "data": {
      "image/png": "[encoded data removed]",
      "text/plain": [
       "<Figure size 640x480 with 1 Axes>"
      ]
     },
     "metadata": {},
     "output_type": "display_data"
    }
   ],
   "source": [
    "digit = my_slice[0][7:-7, 7:-7]\n",
    "\n",
    "plt.imshow(digit, cmap=plt.cm.binary)\n",
    "plt.show()"
   ]
  },
  {
   "cell_type": "code",
   "execution_count": 99,
   "id": "ca838708-4398-4ba5-94f3-f4997123727f",
   "metadata": {},
   "outputs": [
    {
     "data": {
      "image/png": "[encoded data removed]",
      "text/plain": [
       "<Figure size 640x480 with 1 Axes>"
      ]
     },
     "metadata": {},
     "output_type": "display_data"
    }
   ],
   "source": [
    "batch = train_images[:128]\n",
    "\n",
    "plt.imshow(batch[0], cmap=plt.cm.binary)\n",
    "plt.show()"
   ]
  },
  {
   "cell_type": "code",
   "execution_count": 100,
   "id": "becbb80b-448d-416f-9724-8e5ebbf16451",
   "metadata": {},
   "outputs": [],
   "source": [
    "def naive_relu(x):\n",
    "    assert len(x.shape) == 2\n",
    "    \n",
    "    x = x.copy()\n",
    "    for i in range(x.shape[0]):\n",
    "        for j in range(x.shape[1]):\n",
    "            x[i, j] = max(x[i, j], 0)\n",
    "    \n",
    "    return x\n",
    "\n",
    "def naive_add(x, y):\n",
    "    assert len(x.shape) == 2\n",
    "    assert x.shape == y.shape\n",
    "    \n",
    "    x = x.copy()\n",
    "    for i in range(x.shape[0]):\n",
    "        for j in range(x.shape[1]):\n",
    "            x[i, j] += y[i, j]\n",
    "    \n",
    "    return x"
   ]
  },
  {
   "cell_type": "code",
   "execution_count": 101,
   "id": "b9e046c9-f9d4-46ea-952c-84803c809678",
   "metadata": {},
   "outputs": [
    {
     "name": "stdout",
     "output_type": "stream",
     "text": [
      "Took: 0.00 s\n"
     ]
    }
   ],
   "source": [
    "import time\n",
    "\n",
    "x = np.random.random((20, 100))\n",
    "y = np.random.random((20, 100))\n",
    "\n",
    "t0 = time.time()\n",
    "for _ in range(1000):\n",
    "    z = x + y\n",
    "    z = np.maximum(z, 0.)\n",
    "\n",
    "print(\"Took: {0:.2f} s\".format(time.time() - t0))"
   ]
  },
  {
   "cell_type": "code",
   "execution_count": 102,
   "id": "eb8a4b95-08c6-4080-b207-4db59ae44755",
   "metadata": {},
   "outputs": [
    {
     "name": "stdout",
     "output_type": "stream",
     "text": [
      "Took: 0.89 s\n"
     ]
    }
   ],
   "source": [
    "t0 = time.time()\n",
    "for _ in range(1000):\n",
    "    z = naive_add(x, y)\n",
    "    z = naive_relu(z)\n",
    "\n",
    "print(\"Took: {0:.2f} s\".format(time.time() - t0))"
   ]
  },
  {
   "cell_type": "code",
   "execution_count": 103,
   "id": "eb163c24-ad66-4018-b6a8-3882683f8b1e",
   "metadata": {},
   "outputs": [
    {
     "data": {
      "text/plain": [
       "(20, 100)"
      ]
     },
     "execution_count": 103,
     "metadata": {},
     "output_type": "execute_result"
    }
   ],
   "source": [
    "x.shape"
   ]
  },
  {
   "cell_type": "code",
   "execution_count": 104,
   "id": "43068ad8-bd2e-424c-830d-399ec32605fd",
   "metadata": {},
   "outputs": [
    {
     "data": {
      "text/plain": [
       "(10,)"
      ]
     },
     "execution_count": 104,
     "metadata": {},
     "output_type": "execute_result"
    }
   ],
   "source": [
    "# Broadcasting\n",
    "\n",
    "x = np.random.random((32, 10))\n",
    "y = np.random.random((10,))\n",
    "\n",
    "y.shape"
   ]
  },
  {
   "cell_type": "code",
   "execution_count": 105,
   "id": "99643390-3971-446c-8de5-f23700e91b8c",
   "metadata": {},
   "outputs": [
    {
     "data": {
      "text/plain": [
       "(1, 10)"
      ]
     },
     "execution_count": 105,
     "metadata": {},
     "output_type": "execute_result"
    }
   ],
   "source": [
    "y = np.expand_dims(y, axis=0)\n",
    "\n",
    "y.shape"
   ]
  },
  {
   "cell_type": "code",
   "execution_count": 106,
   "id": "386a619c-52fa-46e4-934c-f4107669cf72",
   "metadata": {},
   "outputs": [
    {
     "data": {
      "text/plain": [
       "(32, 10)"
      ]
     },
     "execution_count": 106,
     "metadata": {},
     "output_type": "execute_result"
    }
   ],
   "source": [
    "y = np.concatenate([y] * 32, axis=0)\n",
    "\n",
    "y.shape"
   ]
  },
  {
   "cell_type": "code",
   "execution_count": 107,
   "id": "8465395f-8a42-4eb2-83f5-155194a19c69",
   "metadata": {},
   "outputs": [
    {
     "data": {
      "text/plain": [
       "array([[0.43975588, 0.69011725, 0.82762768, 0.37114613, 0.85100462,\n",
       "        0.29015402, 0.32705912, 0.74612836, 0.75063872, 0.59398416],\n",
       "       [0.43975588, 0.69011725, 0.82762768, 0.37114613, 0.85100462,\n",
       "        0.29015402, 0.32705912, 0.74612836, 0.75063872, 0.59398416],\n",
       "       [0.43975588, 0.69011725, 0.82762768, 0.37114613, 0.85100462,\n",
       "        0.29015402, 0.32705912, 0.74612836, 0.75063872, 0.59398416],\n",
       "       [0.43975588, 0.69011725, 0.82762768, 0.37114613, 0.85100462,\n",
       "        0.29015402, 0.32705912, 0.74612836, 0.75063872, 0.59398416],\n",
       "       [0.43975588, 0.69011725, 0.82762768, 0.37114613, 0.85100462,\n",
       "        0.29015402, 0.32705912, 0.74612836, 0.75063872, 0.59398416],\n",
       "       [0.43975588, 0.69011725, 0.82762768, 0.37114613, 0.85100462,\n",
       "        0.29015402, 0.32705912, 0.74612836, 0.75063872, 0.59398416],\n",
       "       [0.43975588, 0.69011725, 0.82762768, 0.37114613, 0.85100462,\n",
       "        0.29015402, 0.32705912, 0.74612836, 0.75063872, 0.59398416],\n",
       "       [0.43975588, 0.69011725, 0.82762768, 0.37114613, 0.85100462,\n",
       "        0.29015402, 0.32705912, 0.74612836, 0.75063872, 0.59398416],\n",
       "       [0.43975588, 0.69011725, 0.82762768, 0.37114613, 0.85100462,\n",
       "        0.29015402, 0.32705912, 0.74612836, 0.75063872, 0.59398416],\n",
       "       [0.43975588, 0.69011725, 0.82762768, 0.37114613, 0.85100462,\n",
       "        0.29015402, 0.32705912, 0.74612836, 0.75063872, 0.59398416],\n",
       "       [0.43975588, 0.69011725, 0.82762768, 0.37114613, 0.85100462,\n",
       "        0.29015402, 0.32705912, 0.74612836, 0.75063872, 0.59398416],\n",
       "       [0.43975588, 0.69011725, 0.82762768, 0.37114613, 0.85100462,\n",
       "        0.29015402, 0.32705912, 0.74612836, 0.75063872, 0.59398416],\n",
       "       [0.43975588, 0.69011725, 0.82762768, 0.37114613, 0.85100462,\n",
       "        0.29015402, 0.32705912, 0.74612836, 0.75063872, 0.59398416],\n",
       "       [0.43975588, 0.69011725, 0.82762768, 0.37114613, 0.85100462,\n",
       "        0.29015402, 0.32705912, 0.74612836, 0.75063872, 0.59398416],\n",
       "       [0.43975588, 0.69011725, 0.82762768, 0.37114613, 0.85100462,\n",
       "        0.29015402, 0.32705912, 0.74612836, 0.75063872, 0.59398416],\n",
       "       [0.43975588, 0.69011725, 0.82762768, 0.37114613, 0.85100462,\n",
       "        0.29015402, 0.32705912, 0.74612836, 0.75063872, 0.59398416],\n",
       "       [0.43975588, 0.69011725, 0.82762768, 0.37114613, 0.85100462,\n",
       "        0.29015402, 0.32705912, 0.74612836, 0.75063872, 0.59398416],\n",
       "       [0.43975588, 0.69011725, 0.82762768, 0.37114613, 0.85100462,\n",
       "        0.29015402, 0.32705912, 0.74612836, 0.75063872, 0.59398416],\n",
       "       [0.43975588, 0.69011725, 0.82762768, 0.37114613, 0.85100462,\n",
       "        0.29015402, 0.32705912, 0.74612836, 0.75063872, 0.59398416],\n",
       "       [0.43975588, 0.69011725, 0.82762768, 0.37114613, 0.85100462,\n",
       "        0.29015402, 0.32705912, 0.74612836, 0.75063872, 0.59398416],\n",
       "       [0.43975588, 0.69011725, 0.82762768, 0.37114613, 0.85100462,\n",
       "        0.29015402, 0.32705912, 0.74612836, 0.75063872, 0.59398416],\n",
       "       [0.43975588, 0.69011725, 0.82762768, 0.37114613, 0.85100462,\n",
       "        0.29015402, 0.32705912, 0.74612836, 0.75063872, 0.59398416],\n",
       "       [0.43975588, 0.69011725, 0.82762768, 0.37114613, 0.85100462,\n",
       "        0.29015402, 0.32705912, 0.74612836, 0.75063872, 0.59398416],\n",
       "       [0.43975588, 0.69011725, 0.82762768, 0.37114613, 0.85100462,\n",
       "        0.29015402, 0.32705912, 0.74612836, 0.75063872, 0.59398416],\n",
       "       [0.43975588, 0.69011725, 0.82762768, 0.37114613, 0.85100462,\n",
       "        0.29015402, 0.32705912, 0.74612836, 0.75063872, 0.59398416],\n",
       "       [0.43975588, 0.69011725, 0.82762768, 0.37114613, 0.85100462,\n",
       "        0.29015402, 0.32705912, 0.74612836, 0.75063872, 0.59398416],\n",
       "       [0.43975588, 0.69011725, 0.82762768, 0.37114613, 0.85100462,\n",
       "        0.29015402, 0.32705912, 0.74612836, 0.75063872, 0.59398416],\n",
       "       [0.43975588, 0.69011725, 0.82762768, 0.37114613, 0.85100462,\n",
       "        0.29015402, 0.32705912, 0.74612836, 0.75063872, 0.59398416],\n",
       "       [0.43975588, 0.69011725, 0.82762768, 0.37114613, 0.85100462,\n",
       "        0.29015402, 0.32705912, 0.74612836, 0.75063872, 0.59398416],\n",
       "       [0.43975588, 0.69011725, 0.82762768, 0.37114613, 0.85100462,\n",
       "        0.29015402, 0.32705912, 0.74612836, 0.75063872, 0.59398416],\n",
       "       [0.43975588, 0.69011725, 0.82762768, 0.37114613, 0.85100462,\n",
       "        0.29015402, 0.32705912, 0.74612836, 0.75063872, 0.59398416],\n",
       "       [0.43975588, 0.69011725, 0.82762768, 0.37114613, 0.85100462,\n",
       "        0.29015402, 0.32705912, 0.74612836, 0.75063872, 0.59398416]])"
      ]
     },
     "execution_count": 107,
     "metadata": {},
     "output_type": "execute_result"
    }
   ],
   "source": [
    "y"
   ]
  },
  {
   "cell_type": "code",
   "execution_count": null,
   "id": "0367f2c8-71e8-4442-ba9e-85bf828455df",
   "metadata": {},
   "outputs": [],
   "source": []
  }
 ],
 "metadata": {
  "kernelspec": {
   "display_name": "Python 3 (ipykernel)",
   "language": "python",
   "name": "python3"
  },
  "language_info": {
   "codemirror_mode": {
    "name": "ipython",
    "version": 3
   },
   "file_extension": ".py",
   "mimetype": "text/x-python",
   "name": "python",
   "nbconvert_exporter": "python",
   "pygments_lexer": "ipython3",
   "version": "3.10.6"
  }
 },
 "nbformat": 4,
 "nbformat_minor": 5
}
